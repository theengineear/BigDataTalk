{
 "metadata": {
  "celltoolbar": "Slideshow",
  "name": "",
  "signature": "sha256:918e2d826a7f188247d038aa7dc891c2f4b707f389f5a152e8361ae07f8b38ae"
 },
 "nbformat": 3,
 "nbformat_minor": 0,
 "worksheets": [
  {
   "cells": [
    {
     "cell_type": "markdown",
     "metadata": {
      "slideshow": {
       "slide_type": "slide"
      }
     },
     "source": [
      "##Streaming\n",
      "Note, this requires local files on my machine and a twitter api account. I.e., this won't run on your machine!"
     ]
    },
    {
     "cell_type": "code",
     "collapsed": false,
     "input": [
      "import os\n",
      "import requests\n",
      "import json\n",
      "import time\n",
      "import numpy as np\n",
      "import twitter\n",
      "import plotly\n",
      "import plotly.plotly as py\n",
      "from plotly.graph_objs import *"
     ],
     "language": "python",
     "metadata": {
      "slideshow": {
       "slide_type": "skip"
      }
     },
     "outputs": []
    },
    {
     "cell_type": "code",
     "collapsed": false,
     "input": [
      "# grab my ids so no one sees them in the NB\n",
      "stream_ids = plotly.tools.get_credentials_file()['stream_ids']\n",
      "\n",
      "# assemble my blank figure I'll be streaming to\n",
      "fig = Figure()\n",
      "fig['data'] += [Scatter(x=[], y=[], text=[], marker=Marker(size=[], color=[]), mode='markers',\n",
      "                        stream=Stream(token=stream_ids[0], maxpoints=50))]\n",
      "fig['layout'].update(#title=\"most recent tweets\",\n",
      "                     showlegend=False,\n",
      "                     hovermode='closest',\n",
      "                     xaxis=XAxis(title=\"number of statuses posted\"),\n",
      "                     yaxis=YAxis(title=\"number of followers\"),\n",
      "                     annotations=[Annotation(text='size = number of friends<br>color = clean/obscene',\n",
      "                                             x=.97,\n",
      "                                             y=.97,\n",
      "                                             xref='paper',\n",
      "                                             yref='paper',\n",
      "                                             showarrow=False)])\n",
      "\n",
      "# show the url of this figure for reference\n",
      "url = py.plot(fig, filename='twitter', auto_open=False)"
     ],
     "language": "python",
     "metadata": {
      "slideshow": {
       "slide_type": "skip"
      }
     },
     "outputs": []
    },
    {
     "cell_type": "code",
     "collapsed": false,
     "input": [
      "print url\n",
      "plotly.tools.embed(url)"
     ],
     "language": "python",
     "metadata": {
      "slideshow": {
       "slide_type": "fragment"
      }
     },
     "outputs": []
    },
    {
     "cell_type": "code",
     "collapsed": false,
     "input": [
      "# assemble a list of naughty words used in english\n",
      "res = requests.get('https://raw.githubusercontent.com/shutterstock/List-of-Dirty-Naughty-Obscene-and-Otherwise-Bad-Words/master/en')\n",
      "bad_words = res.content.splitlines()\n",
      "\n",
      "# open up a Plotly stream\n",
      "my_stream = py.Stream(stream_ids[0])\n",
      "my_stream.open()\n",
      "\n",
      "# open up a Twitter stream\n",
      "home = os.path.expanduser('~')\n",
      "twitter_auth = json.loads(open(os.path.join(home, '.twitter_auth')).read())\n",
      "t = twitter.TwitterStream(auth=twitter.OAuth(*twitter_auth))\n",
      "iterator = t.statuses.sample()\n",
      "\n",
      "tweet_keys = ['text', 'user', 'lang']\n",
      "user_keys = ['followers_count', 'friends_count', 'statuses_count']\n",
      "for tweet in iterator:\n",
      "    if all(k in tweet for k in tweet_keys) and all(k in tweet['user'] for k in user_keys):\n",
      "        if tweet['lang'] == 'en':\n",
      "            try:\n",
      "                text = str(tweet['text'])\n",
      "            except UnicodeEncodeError:\n",
      "                pass\n",
      "            else:\n",
      "                x = tweet['user']['statuses_count']\n",
      "                y = tweet['user']['followers_count']\n",
      "                s = np.log(1 + tweet['user']['friends_count'])*3\n",
      "                if any(word in text.lower().split() for word in bad_words):\n",
      "                    c = '#FF4136'\n",
      "                    title=\"--naughty--\"\n",
      "                else:\n",
      "                    c = '#2ECC40'\n",
      "                    title=text[:30]\n",
      "                s_text = \"friends: {}<br>{}\".format(tweet['user']['friends_count'], text)\n",
      "                my_stream.write(Scatter(x=x, y=y, text=s_text, marker=Marker(size=s, color=c)),\n",
      "                                layout=Layout(title=title))\n",
      "                time.sleep(.5)"
     ],
     "language": "python",
     "metadata": {
      "slideshow": {
       "slide_type": "skip"
      }
     },
     "outputs": []
    }
   ],
   "metadata": {}
  }
 ]
}