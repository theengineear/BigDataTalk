{
 "metadata": {
  "name": "",
  "signature": "sha256:bb53c285492312cb43fd9af4d673b6ba1762b312b97a0b8e2d8a6f62f5962498"
 },
 "nbformat": 3,
 "nbformat_minor": 0,
 "worksheets": [
  {
   "cells": [
    {
     "cell_type": "markdown",
     "metadata": {
      "slideshow": {
       "slide_type": "slide"
      }
     },
     "source": [
      "##Python Basics (running 2.7)\n",
      "\n",
      "<img\n",
      "src=\"http://www.unixstickers.com/image/cache/data/stickers/python/python.sh-600x600.png\"\n",
      "alt=\"Python Logo\"\n",
      "height=400px\n",
      "/>"
     ]
    },
    {
     "cell_type": "markdown",
     "metadata": {
      "slideshow": {
       "slide_type": "slide"
      }
     },
     "source": [
      "##Data Structures - How Do We Organize Data\n",
      "*numerics*, *files*, *mappings*, *sequences*, and *sets*"
     ]
    },
    {
     "cell_type": "markdown",
     "metadata": {
      "slideshow": {
       "slide_type": "fragment"
      }
     },
     "source": [
      "###Hashable (`hash`):\n",
      "The purpose of hashing is to tag very different things in a similar way for comparison."
     ]
    },
    {
     "cell_type": "code",
     "collapsed": false,
     "input": [
      "# What's hashable?\n",
      "a, b = 'this', 'this'\n",
      "print('hashes of a and b: {0} {1}'.format(hash(a), hash(b)))\n",
      "print('ids of a and b: {0} {1}'.format(id(a), id(b)))\n",
      "aa, bb = ('this', 'that'), ('this', 'that')\n",
      "print('hashes of aa and bb: {0} {1}'.format(hash(aa), hash(bb)))\n",
      "print('ids of aa and bb: {0} {1}'.format(id(aa), id(bb)))\n",
      "print('a == b: {0}'.format(a == b))\n",
      "print('a is b: {0}'.format(a is b))\n",
      "print('aa == bb: {0}'.format(aa == bb))\n",
      "print('aa is bb: {0}'.format(aa is bb))  # tricky!th\n",
      "\n",
      "# What's not hashable?\n",
      "# hash([])  # raises TypeError\n",
      "# hash({})  # raises TypeError"
     ],
     "language": "python",
     "metadata": {
      "slideshow": {
       "slide_type": "fragment"
      }
     },
     "outputs": []
    },
    {
     "cell_type": "markdown",
     "metadata": {
      "slideshow": {
       "slide_type": "slide"
      }
     },
     "source": [
      "###Sequences (1):\n",
      "For our purposes, this means you can do this: `seq[index]`. We'll only cover `'strings'` and `'lists'`"
     ]
    },
    {
     "cell_type": "code",
     "collapsed": false,
     "input": [
      "## Creation via constructor\n",
      "seq1 = list((1, 2, 3))\n",
      "seq1 = list([1, 2, 3])  # same result\n",
      "# seq1 = list('no', 'never', 'stop')  # raises TypeError!! don't do this!\n",
      "\n",
      "## Creation via literal\n",
      "seq2 = [4, 5, 6]\n",
      "\n",
      "## Another literal instantiation\n",
      "seq3 = '789'\n",
      "\n",
      "## Looping (using iterators) and zip()\n",
      "for s1, s2, s3 in zip(seq1, seq2, seq3):\n",
      "    print(s1, s2, s3)\n",
      "    \n",
      "## Objects vs Values\n",
      "seq4 = ['a', 'b', 'c']  # a new object\n",
      "seq5 = ['a', 'b', 'c']  # a new object\n",
      "seq6 = seq5             # SAME OBJECT\n",
      "\n",
      "print(seq4 == seq5, seq4 is seq5)\n",
      "print(seq5 == seq6, seq5 is seq6)\n",
      "\n",
      "## A note on strings. The following will not work in Python 3.2, sorry :)\n",
      "s_byt = b'a string is more than words'\n",
      "s_uni = u'a string is more than words'\n",
      "print(s_byt == s_uni, s_byt is s_uni)  # careful!"
     ],
     "language": "python",
     "metadata": {
      "slideshow": {
       "slide_type": "fragment"
      }
     },
     "outputs": []
    },
    {
     "cell_type": "markdown",
     "metadata": {
      "slideshow": {
       "slide_type": "slide"
      }
     },
     "source": [
      "###Sequences (2):"
     ]
    },
    {
     "cell_type": "code",
     "collapsed": false,
     "input": [
      "## Using the bracket ([]) operator for assignment. Note the zero indexing!\n",
      "seq = ['germany']\n",
      "seq[1:2] = ['argentina', 'netherlands']  # just so you know...\n",
      "# seq[3] = 'brazil'  # this doesn't work! raises IndexError\n",
      "\n",
      "## Using `append` to add a *value*\n",
      "seq.append('brazil')\n",
      "# seq.append(['brazil'])  # wrong! you're appending a value here, be mindful!\n",
      "\n",
      "## Using += to add a value\n",
      "seq += ['no-one-cares']\n",
      "# seq += 'no-one-cares'  # wrong! a string is a sequence, you'll be dissapointed!\n",
      "\n",
      "## Using extend to add multiple values\n",
      "seq.extend(['not-me', 'france-who?'])\n",
      "# seq.extend('not-me', 'france-who?')  # wrong! for the same reason `list('a', 'b')` is wrong!\n",
      "print(seq)\n",
      "\n",
      "## Hey, strings are sequences too!\n",
      "string = 'you heard that right!'\n",
      "print(string)"
     ],
     "language": "python",
     "metadata": {
      "slideshow": {
       "slide_type": "fragment"
      }
     },
     "outputs": []
    },
    {
     "cell_type": "markdown",
     "metadata": {
      "slideshow": {
       "slide_type": "slide"
      }
     },
     "source": [
      "###Sequences (3):"
     ]
    },
    {
     "cell_type": "code",
     "collapsed": false,
     "input": [
      "## Using bracket ([]) operator to access values\n",
      "print(seq[0])\n",
      "print(string[0])\n",
      "print(seq[0:1])  # note, you get a list of length 1 back\n",
      "print(string[0:1])\n",
      "print(seq[3:5])\n",
      "print(string[3:5])\n",
      "print(seq[-1])   # note, you can index from the end!\n",
      "print(string[-1])\n",
      "print(seq[2:-1])\n",
      "print(string[2:-1])\n",
      "print(seq[4:])\n",
      "print(string[4:])\n",
      "\n",
      "## Using len() built-in\n",
      "print(len(seq))\n",
      "print(len(string))"
     ],
     "language": "python",
     "metadata": {
      "slideshow": {
       "slide_type": "fragment"
      }
     },
     "outputs": []
    },
    {
     "cell_type": "markdown",
     "metadata": {
      "slideshow": {
       "slide_type": "slide"
      }
     },
     "source": [
      "###Sequences (4):"
     ]
    },
    {
     "cell_type": "code",
     "collapsed": false,
     "input": [
      "seq = ['eeny', 'meeny', 'miny', 'fred']\n",
      "\n",
      "## Removing values at indicies with pop\n",
      "print(seq.pop())  # defaults to popping from the end\n",
      "print(seq.pop(0))\n",
      "\n",
      "## Removing vaules with del\n",
      "del seq[-1]  # no return\n",
      "\n",
      "## Removing values with remove\n",
      "seq.remove('meeny')  # no return\n",
      "\n",
      "print(seq)\n",
      "\n",
      "## A note on remove: it removes the *first* occurance searching from index 0\n",
      "test_seq = [1, 3, 4, 3, 5]\n",
      "test_seq.remove(3)\n",
      "\n",
      "print(test_seq)"
     ],
     "language": "python",
     "metadata": {
      "slideshow": {
       "slide_type": "fragment"
      }
     },
     "outputs": []
    },
    {
     "cell_type": "markdown",
     "metadata": {
      "slideshow": {
       "slide_type": "slide"
      }
     },
     "source": [
      "###Mappings (dictionaries) (1):\n",
      "A mapping from a *hashable* key to a value. They themselves are *mutable* and may be nested."
     ]
    },
    {
     "cell_type": "code",
     "collapsed": false,
     "input": [
      "## Creation via constructer (personal preference)\n",
      "dc = dict(bob='alright', jane='awesome', doug='ew')\n",
      "print('dc: {d}'.format(d=dc))  # note these will iterate fairly unpredictably!\n",
      "\n",
      "## Creation via literal \n",
      "dl = {'bob': 'alright', 'jane': 'awesome', 'doug': 'ew'}\n",
      "print('dl: {d}'.format(d=dl))\n",
      "\n",
      "## Objects vs values\n",
      "print('id(dl): {ans}'.format(ans=id(dl)))\n",
      "print('id(dc): {ans}'.format(ans=id(dc)))\n",
      "print('dl == dc: {ans}'.format(ans=(dl == dc)))\n",
      "print('dl is dc: {ans}'.format(ans=(dl is dc)))"
     ],
     "language": "python",
     "metadata": {
      "slideshow": {
       "slide_type": "fragment"
      }
     },
     "outputs": []
    },
    {
     "cell_type": "markdown",
     "metadata": {
      "slideshow": {
       "slide_type": "slide"
      }
     },
     "source": [
      "###Mappings (dictionaries) (2):"
     ]
    },
    {
     "cell_type": "code",
     "collapsed": false,
     "input": [
      "d = dict(a=4)\n",
      "print(d)\n",
      "## adding with item-assignment operator '[]'\n",
      "d['b'] = 6\n",
      "print(d)\n",
      "## adding with update keys\n",
      "d.update(c=7)\n",
      "print(d)\n",
      "## adding with update dict\n",
      "d.update(dict(d=1, e=4, f=6))\n",
      "print(d)\n",
      "\n",
      "## deleting with pop\n",
      "print(d.pop('a', 'default'))\n",
      "print(d.pop('a', 'default'))  # yeilds 'default' if 'a' not found\n",
      "print(d)\n",
      "\n",
      "## deleting with del\n",
      "del d['b']\n",
      "# del d['b']  # raises KeyError\n",
      "print(d)\n",
      "\n",
      "## useful methods\n",
      "print d.values()  # list of values\n",
      "print d.keys()    # list of keys\n",
      "print d.items()   # list of key-value pair tuples"
     ],
     "language": "python",
     "metadata": {
      "slideshow": {
       "slide_type": "fragment"
      }
     },
     "outputs": []
    },
    {
     "cell_type": "markdown",
     "metadata": {
      "slideshow": {
       "slide_type": "slide"
      }
     },
     "source": [
      "###Mappings (dictionaries) (3):"
     ]
    },
    {
     "cell_type": "code",
     "collapsed": false,
     "input": [
      "d = dict(one='uno', two='dos', three='tres')\n",
      "\n",
      "## Looping!\n",
      "for key in d.keys():\n",
      "    print(\"{0}\".format(key))\n",
      "\n",
      "for key in d:\n",
      "    print(\"\\t{0}\".format(key))\n",
      "\n",
      "for val in d.values():\n",
      "    print(\"\\t\\t{0}\".format(val))\n",
      "\n",
      "for item in d.items():\n",
      "    print(\"\\t\\t\\t{0}\".format(item))"
     ],
     "language": "python",
     "metadata": {
      "slideshow": {
       "slide_type": "fragment"
      }
     },
     "outputs": []
    },
    {
     "cell_type": "markdown",
     "metadata": {
      "slideshow": {
       "slide_type": "slide"
      }
     },
     "source": [
      "###Mappings (dictionaries) (4):"
     ]
    },
    {
     "cell_type": "code",
     "collapsed": false,
     "input": [
      "## For completeness, remember the hash thing?\n",
      "d = {('doe', 'john'): 42, ('doe', 'jane'): 45, ('whitey', 'bulger'): 84, ('presley', 'elvis'): '?'}\n",
      "print(d)\n",
      "\n",
      "## Complete aside, but this turns out to be pretty useful. Example:\n",
      "for tup in sorted(d):\n",
      "    print(tup, d[tup])"
     ],
     "language": "python",
     "metadata": {
      "slideshow": {
       "slide_type": "fragment"
      }
     },
     "outputs": []
    },
    {
     "cell_type": "markdown",
     "metadata": {
      "slideshow": {
       "slide_type": "slide"
      }
     },
     "source": [
      "###Nesting (1):\n",
      "Things of things of things of things."
     ]
    },
    {
     "cell_type": "code",
     "collapsed": false,
     "input": [
      "## According to the Zen of Python, 'Flat is better than nested'...\n",
      "import this"
     ],
     "language": "python",
     "metadata": {
      "slideshow": {
       "slide_type": "fragment"
      }
     },
     "outputs": []
    },
    {
     "cell_type": "markdown",
     "metadata": {
      "slideshow": {
       "slide_type": "slide"
      }
     },
     "source": [
      "###Nesting (2):\n",
      "... but nesting can be so darn useful!"
     ]
    },
    {
     "cell_type": "code",
     "collapsed": false,
     "input": [
      "## You can do this:\n",
      "seq = [[[[[[[[[[[[[[[[[[[[[[[[[[[[[[[[[[[[[[[4]]]]]]]]]]]]]]]]]]]]]]]]]]]]]]]]]]]]]]]\n",
      "print(seq)\n",
      "\n",
      "## And you can do this\n",
      "d = {'a':{'a':{'a':{'a':{'a':{'a':{'a':{'a':{'a':{'a':'stopit!'}}}}}}}}}}\n",
      "print(d)\n",
      "\n",
      "## More usefully, you can do this...\n",
      "fig = {\n",
      "    \"data\":[\n",
      "        {\"type\":\"scatter\",\n",
      "         \"x\":[1, 2, 3],\n",
      "         \"y\":[2, 1, 2]\n",
      "         }\n",
      "    ],\n",
      "    \"layout\":{\n",
      "        \"title\":\"some figure\",\n",
      "        \"xaxis\":{\n",
      "            \"title\":\"time\",\n",
      "            \"range\":[0, 1]\n",
      "        }\n",
      "    }\n",
      "}\n",
      "print(fig)"
     ],
     "language": "python",
     "metadata": {
      "slideshow": {
       "slide_type": "fragment"
      }
     },
     "outputs": []
    },
    {
     "cell_type": "markdown",
     "metadata": {
      "slideshow": {
       "slide_type": "slide"
      }
     },
     "source": [
      "###Mutable Mentionables (1):\n",
      "\n",
      "####Aliasing:\n",
      "When two identifiers refer to the same *value*. This is only an issue when the value is *mutable*"
     ]
    },
    {
     "cell_type": "code",
     "collapsed": false,
     "input": [
      "## In the case of a list...\n",
      "this = ['a', 'b', 'c']\n",
      "print(this)\n",
      "that = this\n",
      "del that[1]\n",
      "print(this)  # we're printing a value with *two* names, 'this' and 'that'\n",
      "\n",
      "## In the case of a dict...\n",
      "this = dict(one=1, two=2, three=3)\n",
      "print this\n",
      "that = this\n",
      "that['one']=5\n",
      "print this  # we're printing a value with *two* names, 'this' and 'that'"
     ],
     "language": "python",
     "metadata": {
      "slideshow": {
       "slide_type": "fragment"
      }
     },
     "outputs": []
    },
    {
     "cell_type": "markdown",
     "metadata": {
      "slideshow": {
       "slide_type": "slide"
      }
     },
     "source": [
      "###Mutable Mentionables (2):\n",
      "\n",
      "####Shallow vs. Deep Copy\n",
      "Shallow copy means you create new top-level objects. Deep copy means you make all new objects."
     ]
    },
    {
     "cell_type": "code",
     "collapsed": false,
     "input": [
      "## Be careful using list() and dict() to make copies!\n",
      "\n",
      "guest1 = dict(breakfast='eggs', lunch='sandwich', dinner='salad', dessert=['ice cream', 'pie'])\n",
      "guest2 = dict(guest1)\n",
      "guest2['dessert'][-1] = 'water'\n",
      "print guest1 # guest1: \"my pie?!\"\n",
      "print guest2\n",
      "\n",
      "## if you want to copy something, best to do it with the `copy` module, go figure!\n",
      "import copy\n",
      "guest1 = dict(breakfast='eggs', lunch='sandwich', dinner='salad', dessert=['ice cream', 'pie'])\n",
      "guest2 = copy.deepcopy(guest1)\n",
      "guest2['dessert'][-1] = 'water'\n",
      "print guest1 # guest1: \"my pie!\"\n",
      "print guest2"
     ],
     "language": "python",
     "metadata": {
      "slideshow": {
       "slide_type": "fragment"
      }
     },
     "outputs": []
    },
    {
     "cell_type": "markdown",
     "metadata": {
      "slideshow": {
       "slide_type": "slide"
      }
     },
     "source": [
      "###Mutable Mentionables (2):\n",
      "\n",
      "####Objects vs. Values (how not to modify objects. a suggestion.)\n",
      "Sometimes values are objects and sometimes they're values... food for thought."
     ]
    },
    {
     "cell_type": "code",
     "collapsed": false,
     "input": [
      "simple = ['a', 'b', 'c']\n",
      "for element in simple:\n",
      "    element = 'z'\n",
      "print(simple)  # well, yeah! because element aliases an immutable value\n",
      "\n",
      "confused = [['a'], ['b'], ['c']]\n",
      "for element in confused:\n",
      "    element[0] = 'z'\n",
      "print(confused)  # well, yeah! because element aliases a *mutable* value (object?)\n",
      "\n",
      "## A suggestion, if you want to modify things in loops, do it *via* the original object!\n",
      "simple = ['a', 'b', 'c']\n",
      "for index, element in enumerate(simple):\n",
      "    simple[index] = 'z'\n",
      "print(simple)\n",
      "confused = [['a'], ['b'], ['c']]\n",
      "for index, element in enumerate(confused):\n",
      "    confused[index][0] = 'z'\n",
      "print(confused)"
     ],
     "language": "python",
     "metadata": {
      "slideshow": {
       "slide_type": "fragment"
      }
     },
     "outputs": []
    }
   ],
   "metadata": {}
  }
 ]
}