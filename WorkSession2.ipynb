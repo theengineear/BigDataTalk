{
 "metadata": {
  "celltoolbar": "Slideshow",
  "name": "",
  "signature": "sha256:c8aa2c9aaba584525bc03356840f6180d4cd22643c1858ee6ba75d421bec5c0e"
 },
 "nbformat": 3,
 "nbformat_minor": 0,
 "worksheets": [
  {
   "cells": [
    {
     "cell_type": "markdown",
     "metadata": {
      "slideshow": {
       "slide_type": "slide"
      }
     },
     "source": [
      "##Work Session 2 (streaming!)\n",
      "\n",
      "Try to get this to run on your machine!"
     ]
    },
    {
     "cell_type": "code",
     "collapsed": false,
     "input": [
      "import time\n",
      "import numpy as np\n",
      "import plotly.plotly as py\n",
      "import plotly.tools as tls\n",
      "from plotly.graph_objs import *"
     ],
     "language": "python",
     "metadata": {
      "slideshow": {
       "slide_type": "fragment"
      }
     },
     "outputs": []
    },
    {
     "cell_type": "code",
     "collapsed": false,
     "input": [
      "stream = dict(token=tls.get_credentials_file()['stream_ids'][0], maxpoints=1000)\n",
      "fig = Figure()\n",
      "fig['layout'].update(title='Sierpinski Triangle',\n",
      "                     showlegend=False,\n",
      "                     autosize=False,\n",
      "                     width=600,\n",
      "                     height=600,\n",
      "                     xaxis=XAxis(showline=False, zeroline=False, showgrid=False, ticks='', showticklabels=False),\n",
      "                     yaxis=YAxis(showline=False, zeroline=False, showgrid=False, ticks='', showticklabels=False),\n",
      "                     annotations=[Annotation(text=\"(1) randomly pick point<br>\"\n",
      "                                                  \"(2) randomly pick vertex<br>\"\n",
      "                                                  \"(3) get/plot midpoint<br>\"\n",
      "                                                  \"(4) loop: (2)\",\n",
      "                                              x=1, y=1, xref='paper', yref='paper', xanchor='right', yanchor='top',\n",
      "                                              align='right', showarrow=False)])\n",
      "fig['data'] += [Scatter(x=[], y=[], mode='markers', marker=Marker(symbol='triangle-up', size=2), stream=stream)]\n",
      "py.iplot(fig, auto_open=False, filename='sierpinski')  # all credentials stored in .plotly directory"
     ],
     "language": "python",
     "metadata": {
      "slideshow": {
       "slide_type": "fragment"
      }
     },
     "outputs": []
    },
    {
     "cell_type": "code",
     "collapsed": false,
     "input": [
      "def get_midpoint(pt1, pt2):\n",
      "    return [(pt1[0] + pt2[0])/2., (pt1[1] + pt2[1])/2.]\n",
      "\n",
      "verticies = ((0,0),(2,0),(1,2))\n",
      "\n",
      "my_stream = py.Stream(tls.get_credentials_file()['stream_ids'][0])\n",
      "my_stream.open()\n",
      "pts = [[0,0]]\n",
      "for iii in range(1000):\n",
      "    vertex = verticies[int(3*np.random.rand())]\n",
      "    pts = [get_midpoint(pts[-1], vertex)]\n",
      "for iii in range(20):\n",
      "    for jjj in range(100):\n",
      "        vertex = verticies[int(3*np.random.rand())]\n",
      "        pts += [get_midpoint(pts[-1], vertex)]\n",
      "    my_stream.write({'x': [p[0] for p in pts], 'y': [p[1] for p in pts]})\n",
      "    time.sleep(.2)\n",
      "my_stream.close()"
     ],
     "language": "python",
     "metadata": {
      "slideshow": {
       "slide_type": "fragment"
      }
     },
     "outputs": []
    }
   ],
   "metadata": {}
  }
 ]
}