{
 "metadata": {
  "celltoolbar": "Slideshow",
  "name": "",
  "signature": "sha256:4322d1e5da16e13b2e1e2e2275c99853a332750c437dd27342d8c097ac91ef5c"
 },
 "nbformat": 3,
 "nbformat_minor": 0,
 "worksheets": [
  {
   "cells": [
    {
     "cell_type": "markdown",
     "metadata": {
      "slideshow": {
       "slide_type": "slide"
      }
     },
     "source": [
      "##Figure Representation in Plotly\n",
      "\n",
      "<img\n",
      "src=\"https://plot.ly/~bronsolo/14.svg\"\n",
      "alt=\"Walk This Way\"\n",
      "height=400px\n",
      "/>"
     ]
    },
    {
     "cell_type": "markdown",
     "metadata": {
      "slideshow": {
       "slide_type": "slide"
      }
     },
     "source": [
      "###JSON (JavaScript Object Notation) Representation\n",
      "We use JSON to store/access files. Pretty much any coding language can output this serialized string of numbers, strings, arrays, and objects. That means that almost any language can have a Plotly API.\n",
      "\n",
      "Supported APIs:\n",
      "\n",
      "* Python\n",
      "* R\n",
      "* Julia\n",
      "* MATLAB\n",
      "* Node.js\n",
      "\n",
      "JSON notables:\n",
      "\n",
      "* Declarative\n",
      "* Human-readable\n",
      "* No comments allowed\n",
      "* Double quotes!"
     ]
    },
    {
     "cell_type": "code",
     "collapsed": false,
     "input": [
      "from IPython.display import HTML\n",
      "HTML(\"https://plot.ly/~PlotBot/82.json\")"
     ],
     "language": "python",
     "metadata": {
      "slideshow": {
       "slide_type": "fragment"
      }
     },
     "outputs": []
    },
    {
     "cell_type": "markdown",
     "metadata": {
      "slideshow": {
       "slide_type": "slide"
      }
     },
     "source": [
      "###Figure Representation in Python (option 1)\n",
      "If this makes sense to you, you're more than welcome to hard-code in `dict` and `list` objects and send them off.\n",
      "\n",
      "Like so."
     ]
    },
    {
     "cell_type": "code",
     "collapsed": false,
     "input": [
      "fig = {\n",
      "    \"data\":[\n",
      "        {\"type\":\"scatter\",\n",
      "         \"x\":[1, 2, 3],\n",
      "         \"y\":[2, 1, 2]\n",
      "         }\n",
      "    ],\n",
      "    \"layout\":{\n",
      "        \"title\":\"some figure\",\n",
      "        \"xaxis\":{\n",
      "            \"title\":\"time\"\n",
      "        }\n",
      "    }\n",
      "}"
     ],
     "language": "python",
     "metadata": {
      "slideshow": {
       "slide_type": "fragment"
      }
     },
     "outputs": []
    },
    {
     "cell_type": "code",
     "collapsed": false,
     "input": [
      "import plotly.plotly as py\n",
      "py.iplot(fig, filename='my-first-plot')"
     ],
     "language": "python",
     "metadata": {},
     "outputs": []
    },
    {
     "cell_type": "markdown",
     "metadata": {
      "slideshow": {
       "slide_type": "slide"
      }
     },
     "source": [
      "###Figure Representation in Python (option 2)\n",
      "####Recommended\n",
      "It may not seem like a big change, but relying more heavily on the plotly module and using the object definitions, you'll get the benefit of... errors! That sounds bad, but it's actually quite helpful."
     ]
    },
    {
     "cell_type": "code",
     "collapsed": false,
     "input": [
      "from plotly.graph_objs import *\n",
      "fig = Figure(\n",
      "    data=Data([\n",
      "        Scatter(\n",
      "            x=[1, 2, 3],\n",
      "            y=[2, 1, 2]\n",
      "        )\n",
      "    ]),\n",
      "    layout=Layout(\n",
      "        title='some other figure',\n",
      "        xaxis=XAxis(\n",
      "            title='time'\n",
      "        )\n",
      "    )\n",
      ")"
     ],
     "language": "python",
     "metadata": {
      "slideshow": {
       "slide_type": "fragment"
      }
     },
     "outputs": []
    },
    {
     "cell_type": "code",
     "collapsed": false,
     "input": [
      "import plotly.plotly as py\n",
      "py.iplot(fig, filename='my-second-plot')"
     ],
     "language": "python",
     "metadata": {
      "slideshow": {
       "slide_type": "fragment"
      }
     },
     "outputs": []
    },
    {
     "cell_type": "markdown",
     "metadata": {
      "slideshow": {
       "slide_type": "slide"
      }
     },
     "source": [
      "###Plotly graph objects are just `dict` and `list` subclasses with bells and whistles\n",
      "####We only redefine *two* methods: `__init__` and `update`, the latter only for `dict` subclasses"
     ]
    },
    {
     "cell_type": "code",
     "collapsed": false,
     "input": [
      "import copy\n",
      "copied_fig = copy.deepcopy(fig)\n",
      "print(copied_fig.pop('layout'))   # pop still works on our dict subclasses\n",
      "print(copied_fig['data'].pop())   # pop still works on our list subclasses\n",
      "print(copied_fig)\n",
      "print(type(copied_fig))"
     ],
     "language": "python",
     "metadata": {
      "slideshow": {
       "slide_type": "fragment"
      }
     },
     "outputs": []
    },
    {
     "cell_type": "markdown",
     "metadata": {
      "slideshow": {
       "slide_type": "slide"
      }
     },
     "source": [
      "##Which means we get all be benefits of these great data structures!\n",
      "Let's see how this can be used."
     ]
    },
    {
     "cell_type": "code",
     "collapsed": false,
     "input": [
      "import numpy as np\n",
      "fig = Figure()\n",
      "for iii in range(5):\n",
      "    fig['data'].append(Box(y=np.random.rand()*np.random.rand(30)))\n",
      "py.iplot(fig, filename=\"my-third-plot\")"
     ],
     "language": "python",
     "metadata": {
      "slideshow": {
       "slide_type": "fragment"
      }
     },
     "outputs": []
    },
    {
     "cell_type": "markdown",
     "metadata": {
      "slideshow": {
       "slide_type": "slide"
      }
     },
     "source": [
      "###Help!\n",
      "Again, using the objects defined in the `plotly` module will give you access to some nice benefits. One of those is help."
     ]
    },
    {
     "cell_type": "code",
     "collapsed": false,
     "input": [
      "help(Heatmap)"
     ],
     "language": "python",
     "metadata": {
      "slideshow": {
       "slide_type": "fragment"
      }
     },
     "outputs": []
    },
    {
     "cell_type": "markdown",
     "metadata": {
      "slideshow": {
       "slide_type": "slide"
      }
     },
     "source": [
      "###Errors!\n",
      "Yes. Errors are great. They tell you (1) that something went wrong and (2) where it went wrong and (3) how it went wrong."
     ]
    },
    {
     "cell_type": "code",
     "collapsed": false,
     "input": [
      "fig = Figure(\n",
      "    data=Data([\n",
      "        Scatter(\n",
      "            x=[1, 2, 3],\n",
      "            y=[2, 1, 2]\n",
      "        )\n",
      "    ]),\n",
      "    layout=Layout(\n",
      "        title='some other figure',\n",
      "        xaxis=XAxis(\n",
      "            tile='time'\n",
      "        )\n",
      "    )\n",
      ")  # this will raise an exception, let's look at it to see what's going on."
     ],
     "language": "python",
     "metadata": {
      "slideshow": {
       "slide_type": "fragment"
      }
     },
     "outputs": []
    },
    {
     "cell_type": "code",
     "collapsed": false,
     "input": [
      "fig = Figure(\n",
      "    data=Data([\n",
      "        Scatter(\n",
      "            x=[1, 2, 3],\n",
      "            y=[2, 1, 2]\n",
      "        )\n",
      "    ]),\n",
      "    layout=Layout(\n",
      "        title='some other figure',\n",
      "        xaxis=XAxis(\n",
      "            name='time'\n",
      "        )\n",
      "    )\n",
      ")  # here's a sneakier one... whoops, picked the wrong key"
     ],
     "language": "python",
     "metadata": {
      "slideshow": {
       "slide_type": "fragment"
      }
     },
     "outputs": []
    },
    {
     "cell_type": "code",
     "collapsed": false,
     "input": [
      "fig = {\n",
      "    \"data\":[\n",
      "        {\"type\":\"scatter\",\n",
      "         \"var1\":[1, 2, 3],\n",
      "         \"var2\":[2, 1, 2]\n",
      "         }\n",
      "    ],\n",
      "    \"layout\":{\n",
      "        \"title\":\"some figure\",\n",
      "        \"xaxis\":{\n",
      "            \"title\":\"time\"\n",
      "        }\n",
      "    }\n",
      "}  # no problem here!"
     ],
     "language": "python",
     "metadata": {},
     "outputs": []
    },
    {
     "cell_type": "code",
     "collapsed": false,
     "input": [
      "py.iplot(fig, filename=\"my-fourth-plot\")  # we just love throwing exceptions!"
     ],
     "language": "python",
     "metadata": {},
     "outputs": []
    },
    {
     "cell_type": "markdown",
     "metadata": {
      "slideshow": {
       "slide_type": "slide"
      }
     },
     "source": [
      "###Recap\n",
      "Plotly uses JSON to describe figures. It's a declarative data structure that humans can read. Almost all languages can natively create JSON, so building Plotly APIs for such languages is natural. Python notation is almost exactly the same as JSON when using `dict` and `list`, so it's easy to think of the descriptions as one-and-the-same.\n",
      "\n",
      "The `plotly` module has a bunch of *graph objects* that are basically thinly-veiled `dict` and `list` structures that make getting from point `a` (have data) to point `b` (have visualization) easier.\n",
      "\n",
      "<img\n",
      "src=\"https://plot.ly/~joaoduarte/14/electric-field-spacial-distribution.svg\"\n",
      "alt=\"Electric Field Spacial Distribution\"\n",
      "height=400px\n",
      "/>"
     ]
    }
   ],
   "metadata": {}
  }
 ]
}