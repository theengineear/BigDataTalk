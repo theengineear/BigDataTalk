{
 "metadata": {
  "name": "",
  "signature": "sha256:40ad942b58367c3521bd98a45fe4c7a3d9c3d2450aba814d68b484c10a68f3e8"
 },
 "nbformat": 3,
 "nbformat_minor": 0,
 "worksheets": [
  {
   "cells": [
    {
     "cell_type": "markdown",
     "metadata": {
      "slideshow": {
       "slide_type": "slide"
      }
     },
     "source": [
      "##Plotly. Analyze and visualize data, together.\n",
      "<img src=\"https://plot.ly/static/img/splash/tinkerbell.jpg\" alt=\"Plotly tinkerbell\" height=400px/>"
     ]
    },
    {
     "cell_type": "markdown",
     "metadata": {
      "slideshow": {
       "slide_type": "slide"
      }
     },
     "source": [
      "##Introduction to Plotly\n",
      "* What is it\n",
      "* Who is it for\n",
      "* How can you use it\n",
      "* Installation with Python\n",
      "<img\n",
      "src=\"https://plot.ly/~AnnaG/1/nfl-defensive-player-size-2013-season.svg\"\n",
      "alt=\"NFL Player Size\"\n",
      "height=400px\n",
      "/>"
     ]
    },
    {
     "cell_type": "markdown",
     "metadata": {
      "slideshow": {
       "slide_type": "slide"
      }
     },
     "source": [
      "##Python Basics\n",
      "* Data structures\n",
      "* Inheritance\n",
      "<img\n",
      "src=\"https://plot.ly/~etpinard/301/gdp-per-cap-versus-time.svg\"\n",
      "alt=\"GDP Per Capita vs. Time\"\n",
      "height=400px\n",
      "/>"
     ]
    },
    {
     "cell_type": "markdown",
     "metadata": {
      "slideshow": {
       "slide_type": "slide"
      }
     },
     "source": [
      "##Getting set up for programmatic access\n",
      "* `username`, `api_key`\n",
      "* `.plotly` directory\n",
      "* `.credentials file\n",
      "<img\n",
      "src=\"https://plot.ly/~RgraphingAPI/1624/y-vs-x.svg\"\n",
      "alt=\"Graphing From R\"\n",
      "height=400px\n",
      "/>"
     ]
    },
    {
     "cell_type": "markdown",
     "metadata": {
      "slideshow": {
       "slide_type": "slide"
      }
     },
     "source": [
      "##How Plotly represents figures\n",
      "* JSON on the web\n",
      "* `dict` or `list` in Python\n",
      "<img\n",
      "src=\"https://plot.ly/~jackp/914/bessel-functions-of-the-first-kind.svg\"\n",
      "alt=\"Bessel Functions\"\n",
      "height=400px\n",
      "/>"
     ]
    },
    {
     "cell_type": "markdown",
     "metadata": {
      "slideshow": {
       "slide_type": "slide"
      }
     },
     "source": [
      "##Overview of possible graph types\n",
      "* Scatter, Bar, Box, Heatmap, Contour, Histogram, etc.\n",
      "\n",
      "<img\n",
      "src=\"https://plot.ly/~theengineear/893/mic-patterns.svg\"\n",
      "alt=\"Mic Patterns\"\n",
      "height=400px\n",
      "/>"
     ]
    },
    {
     "cell_type": "markdown",
     "metadata": {
      "slideshow": {
       "slide_type": "slide"
      }
     },
     "source": [
      "##Streaming\n",
      "* Streaming ids\n",
      "* Data streaming\n",
      "* Layout streaming"
     ]
    },
    {
     "cell_type": "code",
     "collapsed": false,
     "input": [
      "## Some things we'll need\n",
      "from IPython.display import HTML"
     ],
     "language": "python",
     "metadata": {
      "slideshow": {
       "slide_type": "skip"
      }
     },
     "outputs": [],
     "prompt_number": 1
    },
    {
     "cell_type": "code",
     "collapsed": false,
     "input": [
      "HTML('<iframe id=\"igraph\" scrolling=\"no\" style=\"border:none;\"seamless=\"seamless\" src=\"https://plot.ly/~streaming-demos/4\" height=\"525\" width=\"100%\"></iframe>')"
     ],
     "language": "python",
     "metadata": {
      "slideshow": {
       "slide_type": "fragment"
      }
     },
     "outputs": [
      {
       "html": [
        "<iframe id=\"igraph\" scrolling=\"no\" style=\"border:none;\"seamless=\"seamless\" src=\"https://plot.ly/~streaming-demos/4\" height=\"525\" width=\"100%\"></iframe>"
       ],
       "metadata": {},
       "output_type": "pyout",
       "prompt_number": 2,
       "text": [
        "<IPython.core.display.HTML at 0x10c9d79d0>"
       ]
      }
     ],
     "prompt_number": 2
    },
    {
     "cell_type": "markdown",
     "metadata": {},
     "source": [
      "##Converting from matplotlib\n",
      "* Simple plot\n",
      "* Plot with update\n",
      "* Conversion, then plot\n",
      "\n",
      "<img\n",
      "src=\"https://plot.ly/~chris/2252.svg\"\n",
      "alt=\"Converting from matplotlib\"\n",
      "height=400px\n",
      "/>"
     ]
    }
   ],
   "metadata": {}
  }
 ]
}