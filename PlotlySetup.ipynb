{
 "metadata": {
  "name": "",
  "signature": "sha256:fb17d0e7cd802ee747bcbf10c316b2e26be06fa3da92eb9eebd0669a17a9ff45"
 },
 "nbformat": 3,
 "nbformat_minor": 0,
 "worksheets": [
  {
   "cells": [
    {
     "cell_type": "markdown",
     "metadata": {},
     "source": [
      "###Setting up local files\n",
      "Plotly drops a `.plotly` directory in your home directory on your machine the first time you import it (if it doesn't already exist.\n",
      "\n",
      "The first thing you need to do is head to this page: https://plot.ly/python/getting-started/\n",
      "\n",
      "In the upper-right hand corner, there's a link to sign-up or one to sign-in. If you haven't done so, set up an account (otherwise you won't be able to have some fun with streaming later in the tutorial!)\n",
      "\n",
      "There's a command line expression in there that will be specialized for your account, you'll just need to copy and paste it into your terminal to get going.\n",
      "\n",
      "If the `.plotly` directory is setup for you, you won't ever have to remember, look up, or type in, your api-key, it will just be saved on your machine.\n",
      "\n",
      "<img src=\"https://plot.ly/static/img/splash/tinkerbell.jpg\" alt=\"Plotly tinkerbell\" height=400px/>\n",
      "\n",
      "Happy plotting!"
     ]
    }
   ],
   "metadata": {}
  }
 ]
}