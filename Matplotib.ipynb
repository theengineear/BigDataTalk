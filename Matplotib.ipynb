{
 "metadata": {
  "name": "",
  "signature": "sha256:3482f628bc798d50367acfb79a1e700fcb8d91033d635dda862f198ade387fc8"
 },
 "nbformat": 3,
 "nbformat_minor": 0,
 "worksheets": [
  {
   "cells": [
    {
     "cell_type": "markdown",
     "metadata": {
      "slideshow": {
       "slide_type": "slide"
      }
     },
     "source": [
      "##Matplotlib\n",
      "Why redo the work you already have? Plotly support for matplotlib conversions grows daily!\n",
      "\n",
      "Full integration will happen as a result of [MEP25](https://github.com/matplotlib/matplotlib/wiki/MEP25) in the matplotlib project.\n",
      "\n",
      "Here's where we are now!"
     ]
    },
    {
     "cell_type": "code",
     "collapsed": false,
     "input": [
      "import plotly\n",
      "plotly.tools.embed(\"https://plot.ly/~PlotBot/88/gaussian-histogram/\")"
     ],
     "language": "python",
     "metadata": {
      "slideshow": {
       "slide_type": "fragment"
      }
     },
     "outputs": []
    },
    {
     "cell_type": "markdown",
     "metadata": {
      "slideshow": {
       "slide_type": "slide"
      }
     },
     "source": [
      "###Suggested imports for working with matplotlib and Plotly"
     ]
    },
    {
     "cell_type": "code",
     "collapsed": false,
     "input": [
      "%matplotlib inline\n",
      "import matplotlib\n",
      "import matplotlib.pyplot as plt\n",
      "import numpy as np\n",
      "\n",
      "import plotly\n",
      "import plotly.plotly as py\n",
      "from plotly.graph_objs import *"
     ],
     "language": "python",
     "metadata": {
      "slideshow": {
       "slide_type": "fragment"
      }
     },
     "outputs": []
    },
    {
     "cell_type": "markdown",
     "metadata": {
      "slideshow": {
       "slide_type": "slide"
      }
     },
     "source": [
      "###Bubbles\n",
      "The following is code modified from [here](http://glowingpython.blogspot.com/2011/11/how-to-make-bubble-charts-with.html)."
     ]
    },
    {
     "cell_type": "code",
     "collapsed": false,
     "input": [
      "durl = 'http://datasets.flowingdata.com/crimeRatesByState2005.csv'\n",
      "rdata = np.genfromtxt(durl,dtype='S8,f,f,f,f,f,f,f,i',delimiter=',')\n",
      "rdata=rdata[2:]  # cut titles/statistics\n",
      "\n",
      "# pull out data\n",
      "x = [data[1] for data in rdata] # murders per 100,000 people\n",
      "y = [data[5] for data in rdata] # buglaries per 100,000 people\n",
      "c = [data[6] for data in rdata] # larceny_theft per 100,000 people\n",
      "s = [data[8] for data in rdata] # population\n",
      "name = [data[0] for data in rdata] # state name\n",
      "annotations = [[x[i], y[i], name[i]] for i in range(len(rdata))]\n",
      "\n",
      "# making the scatter plot\n",
      "fig1, ax = plt.subplots()\n",
      "cm = plt.cm.get_cmap('RdBu_r')  # define color map ('_r' means 'reverse')\n",
      "al = 0.9\n",
      "ax.scatter(x, y, c=c, cmap=cm, s=np.sqrt(s), linewidths=2, edgecolor='w', alpha=al)\n",
      "\n",
      "# put in annotations\n",
      "text_style = {\"size\": 11, \"horizontalalignment\": \"center\"}\n",
      "for text_data in annotations:\n",
      "    ax.text(*text_data, **text_style)  # *unpack_x_y_name, **unpack_size_alignment\n",
      "ax.text(.97, .97, \"Color represents<br>larceny-theft levels\",\n",
      "        transform=ax.transAxes,\n",
      "        horizontalalignment='right',\n",
      "        verticalalignment='top',\n",
      "        size=11)\n",
      "\n",
      "# label axes\n",
      "ax.set_xlabel('Murders per 100,000 population')\n",
      "_ = ax.set_ylabel('Burglaries per 100,000 population')"
     ],
     "language": "python",
     "metadata": {
      "slideshow": {
       "slide_type": "fragment"
      }
     },
     "outputs": []
    },
    {
     "cell_type": "code",
     "collapsed": false,
     "input": [
      "# send resulting figure to plotly\n",
      "py.iplot_mpl(fig1, filename='crime-time')"
     ],
     "language": "python",
     "metadata": {
      "slideshow": {
       "slide_type": "fragment"
      }
     },
     "outputs": []
    },
    {
     "cell_type": "markdown",
     "metadata": {
      "slideshow": {
       "slide_type": "slide"
      }
     },
     "source": [
      "###More Bubbles\n",
      "This time, we'll just cut to the chase and grab the Plotly figure."
     ]
    },
    {
     "cell_type": "code",
     "collapsed": false,
     "input": [
      "# decay and frequency for position and signal\n",
      "w1 = 4.\n",
      "w2 = 3/w1\n",
      "a1 = 2\n",
      "a2 = .5\n",
      "\n",
      "# time, position, signal\n",
      "t = np.linspace(0, 1, 400)\n",
      "yt = np.e**(-a1*t)*np.cos(2*np.pi*w1*t)\n",
      "sig = np.e**(1j*2*np.pi*w2*yt)\n",
      "\n",
      "# open up a figure\n",
      "fig2, ax = plt.subplots()\n",
      "\n",
      "# define the color map we'll use for the imaginary axis\n",
      "cm = plt.cm.get_cmap('rainbow')\n",
      "\n",
      "# make those bubbles!\n",
      "ax.scatter(t, yt, s=np.real(sig)**2*2000, c=np.imag(sig), cmap=cm)\n",
      "\n",
      "# annotate in axes coordinates\n",
      "ax.text(.97, .97, \"Color = imag(sig)<br>Size = real(sig)\",\n",
      "        transform=ax.transAxes,\n",
      "        horizontalalignment='right',\n",
      "        verticalalignment='top',\n",
      "        size=11)\n",
      "\n",
      "# label axes\n",
      "ax.set_ylabel('position')\n",
      "ax.set_xlabel('time')\n",
      "\n",
      "py.iplot_mpl(fig2, filename='complex-exponential')"
     ],
     "language": "python",
     "metadata": {
      "slideshow": {
       "slide_type": "fragment"
      }
     },
     "outputs": []
    },
    {
     "cell_type": "markdown",
     "metadata": {
      "slideshow": {
       "slide_type": "slide"
      }
     },
     "source": [
      "###Updates\n",
      "Many of the features not yet portable to Plotly from matplotlib can be fixed in the export step using a figure `update`."
     ]
    },
    {
     "cell_type": "code",
     "collapsed": false,
     "input": [
      "x = np.linspace(0, 2*np.pi, 100)\n",
      "fig4, ax = plt.subplots()\n",
      "ax.plot(np.sin(x), label='sin'); ax.plot(np.cos(x), label='cos')\n",
      "\n",
      "update = {'data':[{'fill': 'tozeroy'}]}  # this updates BOTH traces (modulo)\n",
      "py.iplot_mpl(fig4, update=update, filename='mpl-multi-fill')"
     ],
     "language": "python",
     "metadata": {
      "slideshow": {
       "slide_type": "fragment"
      }
     },
     "outputs": []
    },
    {
     "cell_type": "markdown",
     "metadata": {
      "slideshow": {
       "slide_type": "slide"
      }
     },
     "source": [
      "###Strip Style\n",
      "Plotly works hard on defaults so you have to do less work! So... let us do the work, already!\n",
      "\n",
      "You can strip style from any figure, (including exports from matplotlib)."
     ]
    },
    {
     "cell_type": "code",
     "collapsed": false,
     "input": [
      "n = 200\n",
      "num_scatter=3\n",
      "\n",
      "fig5, ax = plt.subplots()\n",
      "for s in range(num_scatter):\n",
      "    x, y = np.random.rand()*np.random.rand(2, n)\n",
      "    ax.scatter(x, y)"
     ],
     "language": "python",
     "metadata": {
      "slideshow": {
       "slide_type": "fragment"
      }
     },
     "outputs": []
    },
    {
     "cell_type": "code",
     "collapsed": false,
     "input": [
      "update={'data':[{'mode':'markers'}]}\n",
      "py.iplot_mpl(fig5, strip_style=True, update=update, filename='stripped-scatter')  # much clearer!"
     ],
     "language": "python",
     "metadata": {
      "slideshow": {
       "slide_type": "fragment"
      }
     },
     "outputs": []
    }
   ],
   "metadata": {}
  }
 ]
}